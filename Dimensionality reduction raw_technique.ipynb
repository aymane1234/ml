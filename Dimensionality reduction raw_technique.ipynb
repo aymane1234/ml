{
 "cells": [
  {
   "cell_type": "code",
   "execution_count": 3,
   "id": "ea3664fd",
   "metadata": {},
   "outputs": [],
   "source": [
    "import pandas as pd\n",
    "import numpy as np"
   ]
  },
  {
   "cell_type": "code",
   "execution_count": 29,
   "id": "99965989",
   "metadata": {},
   "outputs": [],
   "source": [
    "A  = np.array([\n",
    "    [3,7],\n",
    "    [-4,-6],\n",
    "    [7,8],\n",
    "    [1,-1],\n",
    "    [-4,-1],\n",
    "    [-3,-7]\n",
    "    \n",
    "])"
   ]
  },
  {
   "cell_type": "code",
   "execution_count": 30,
   "id": "a3cab804",
   "metadata": {},
   "outputs": [
    {
     "data": {
      "text/plain": [
       "array([[ 3,  7],\n",
       "       [-4, -6],\n",
       "       [ 7,  8],\n",
       "       [ 1, -1],\n",
       "       [-4, -1],\n",
       "       [-3, -7]])"
      ]
     },
     "execution_count": 30,
     "metadata": {},
     "output_type": "execute_result"
    }
   ],
   "source": [
    "A"
   ]
  },
  {
   "cell_type": "code",
   "execution_count": 31,
   "id": "faaf0260",
   "metadata": {},
   "outputs": [
    {
     "data": {
      "text/plain": [
       "(6, 2)"
      ]
     },
     "execution_count": 31,
     "metadata": {},
     "output_type": "execute_result"
    }
   ],
   "source": [
    "A.shape"
   ]
  },
  {
   "cell_type": "code",
   "execution_count": 32,
   "id": "cabf076a",
   "metadata": {},
   "outputs": [
    {
     "data": {
      "text/html": [
       "<div>\n",
       "<style scoped>\n",
       "    .dataframe tbody tr th:only-of-type {\n",
       "        vertical-align: middle;\n",
       "    }\n",
       "\n",
       "    .dataframe tbody tr th {\n",
       "        vertical-align: top;\n",
       "    }\n",
       "\n",
       "    .dataframe thead th {\n",
       "        text-align: right;\n",
       "    }\n",
       "</style>\n",
       "<table border=\"1\" class=\"dataframe\">\n",
       "  <thead>\n",
       "    <tr style=\"text-align: right;\">\n",
       "      <th></th>\n",
       "      <th>a0</th>\n",
       "      <th>a1</th>\n",
       "    </tr>\n",
       "  </thead>\n",
       "  <tbody>\n",
       "    <tr>\n",
       "      <th>0</th>\n",
       "      <td>3</td>\n",
       "      <td>7</td>\n",
       "    </tr>\n",
       "    <tr>\n",
       "      <th>1</th>\n",
       "      <td>-4</td>\n",
       "      <td>-6</td>\n",
       "    </tr>\n",
       "    <tr>\n",
       "      <th>2</th>\n",
       "      <td>7</td>\n",
       "      <td>8</td>\n",
       "    </tr>\n",
       "    <tr>\n",
       "      <th>3</th>\n",
       "      <td>1</td>\n",
       "      <td>-1</td>\n",
       "    </tr>\n",
       "    <tr>\n",
       "      <th>4</th>\n",
       "      <td>-4</td>\n",
       "      <td>-1</td>\n",
       "    </tr>\n",
       "    <tr>\n",
       "      <th>5</th>\n",
       "      <td>-3</td>\n",
       "      <td>-7</td>\n",
       "    </tr>\n",
       "  </tbody>\n",
       "</table>\n",
       "</div>"
      ],
      "text/plain": [
       "   a0  a1\n",
       "0   3   7\n",
       "1  -4  -6\n",
       "2   7   8\n",
       "3   1  -1\n",
       "4  -4  -1\n",
       "5  -3  -7"
      ]
     },
     "execution_count": 32,
     "metadata": {},
     "output_type": "execute_result"
    }
   ],
   "source": [
    "pd.DataFrame(A, columns=['a0','a1'])"
   ]
  },
  {
   "cell_type": "code",
   "execution_count": 33,
   "id": "3a6e2868",
   "metadata": {},
   "outputs": [],
   "source": [
    "a0 = A[:,0]\n",
    "a1= A[:,1]"
   ]
  },
  {
   "cell_type": "code",
   "execution_count": 34,
   "id": "29b026a8",
   "metadata": {},
   "outputs": [
    {
     "data": {
      "text/plain": [
       "array([[20., 25.],\n",
       "       [25., 40.]])"
      ]
     },
     "execution_count": 34,
     "metadata": {},
     "output_type": "execute_result"
    }
   ],
   "source": [
    "np.cov(a0,a1)"
   ]
  },
  {
   "cell_type": "code",
   "execution_count": 35,
   "id": "d2801e74",
   "metadata": {},
   "outputs": [
    {
     "data": {
      "text/plain": [
       "25.0"
      ]
     },
     "execution_count": 35,
     "metadata": {},
     "output_type": "execute_result"
    }
   ],
   "source": [
    "np.sum(a0*a1)/5"
   ]
  },
  {
   "cell_type": "code",
   "execution_count": 36,
   "id": "fcff0825",
   "metadata": {},
   "outputs": [
    {
     "data": {
      "text/plain": [
       "array([[20., 25.],\n",
       "       [25., 40.]])"
      ]
     },
     "execution_count": 36,
     "metadata": {},
     "output_type": "execute_result"
    }
   ],
   "source": [
    "A.T @ A/5 #matrix multip --- Same result as for covariance "
   ]
  },
  {
   "cell_type": "code",
   "execution_count": 25,
   "id": "1b22a00d",
   "metadata": {},
   "outputs": [
    {
     "name": "stdout",
     "output_type": "stream",
     "text": [
      "Object `@` not found.\n"
     ]
    }
   ],
   "source": [
    "?@"
   ]
  },
  {
   "cell_type": "code",
   "execution_count": 37,
   "id": "2ef2bf5a",
   "metadata": {},
   "outputs": [],
   "source": [
    "sigma = A.T @ A/5"
   ]
  },
  {
   "cell_type": "code",
   "execution_count": 38,
   "id": "0908674c",
   "metadata": {},
   "outputs": [
    {
     "data": {
      "text/plain": [
       "(array([ 3.07417596, 56.92582404]),\n",
       " array([[-0.82806723, -0.56062881],\n",
       "        [ 0.56062881, -0.82806723]]))"
      ]
     },
     "execution_count": 38,
     "metadata": {},
     "output_type": "execute_result"
    }
   ],
   "source": [
    "np.linalg.eig(sigma) #compute the eigenvalues and right eigenvector of a square array"
   ]
  },
  {
   "cell_type": "markdown",
   "id": "3d5a02df",
   "metadata": {},
   "source": [
    "lambda1 = 56,92 highest eigenvalue \n",
    "lambda2 = 3..."
   ]
  },
  {
   "cell_type": "code",
   "execution_count": 39,
   "id": "b333d9b0",
   "metadata": {},
   "outputs": [],
   "source": [
    "l, x = np.linalg.eig(sigma)"
   ]
  },
  {
   "cell_type": "code",
   "execution_count": 40,
   "id": "d6e3b3d7",
   "metadata": {},
   "outputs": [
    {
     "data": {
      "text/plain": [
       "array([[-0.82806723, -0.56062881],\n",
       "       [ 0.56062881, -0.82806723]])"
      ]
     },
     "execution_count": 40,
     "metadata": {},
     "output_type": "execute_result"
    }
   ],
   "source": [
    "x"
   ]
  },
  {
   "cell_type": "code",
   "execution_count": 42,
   "id": "dbf2b851",
   "metadata": {},
   "outputs": [
    {
     "data": {
      "text/plain": [
       "array([-2.54562438,  1.72347161])"
      ]
     },
     "execution_count": 42,
     "metadata": {},
     "output_type": "execute_result"
    }
   ],
   "source": [
    "sigma @ x[:,0]"
   ]
  },
  {
   "cell_type": "code",
   "execution_count": 43,
   "id": "a6507f10",
   "metadata": {},
   "outputs": [
    {
     "data": {
      "text/plain": [
       "array([-31.91425695, -47.13840945])"
      ]
     },
     "execution_count": 43,
     "metadata": {},
     "output_type": "execute_result"
    }
   ],
   "source": [
    "sigma @ x[:,1]"
   ]
  },
  {
   "cell_type": "code",
   "execution_count": 47,
   "id": "be75bcb6",
   "metadata": {},
   "outputs": [
    {
     "name": "stdout",
     "output_type": "stream",
     "text": [
      "1st principal component with biggest eigenvalue\n"
     ]
    },
    {
     "data": {
      "text/plain": [
       "array([-0.56062881, -0.82806723])"
      ]
     },
     "execution_count": 47,
     "metadata": {},
     "output_type": "execute_result"
    }
   ],
   "source": [
    "print(\"1st principal component with biggest eigenvalue\")\n",
    "x[:,1]"
   ]
  },
  {
   "cell_type": "code",
   "execution_count": 46,
   "id": "8cc67adb",
   "metadata": {},
   "outputs": [
    {
     "name": "stdout",
     "output_type": "stream",
     "text": [
      "2st principal component with lowest eigenvalue\n"
     ]
    },
    {
     "data": {
      "text/plain": [
       "array([-0.82806723,  0.56062881])"
      ]
     },
     "execution_count": 46,
     "metadata": {},
     "output_type": "execute_result"
    }
   ],
   "source": [
    "print(\"2st principal component with lowest eigenvalue\")\n",
    "x[:,0]"
   ]
  },
  {
   "cell_type": "code",
   "execution_count": 49,
   "id": "3617374d",
   "metadata": {},
   "outputs": [],
   "source": [
    "pc1_arr =  A @ x[:,1] #to transform the data "
   ]
  },
  {
   "cell_type": "code",
   "execution_count": 50,
   "id": "6a687402",
   "metadata": {},
   "outputs": [],
   "source": [
    "pc2_arr =  A @ x[:,0]"
   ]
  },
  {
   "cell_type": "code",
   "execution_count": 51,
   "id": "14a4b366",
   "metadata": {},
   "outputs": [
    {
     "data": {
      "text/plain": [
       "array([ -7.47835704,   7.21091862, -10.54893951,   0.26743842,\n",
       "         3.07058247,   7.47835704])"
      ]
     },
     "execution_count": 51,
     "metadata": {},
     "output_type": "execute_result"
    }
   ],
   "source": [
    "pc1_arr"
   ]
  },
  {
   "cell_type": "code",
   "execution_count": 52,
   "id": "3f3fbbf0",
   "metadata": {},
   "outputs": [
    {
     "data": {
      "text/plain": [
       "array([ 1.44019997, -0.05150393, -1.31144014, -1.38869604,  2.75164011,\n",
       "       -1.44019997])"
      ]
     },
     "execution_count": 52,
     "metadata": {},
     "output_type": "execute_result"
    }
   ],
   "source": [
    "pc2_arr"
   ]
  },
  {
   "cell_type": "code",
   "execution_count": 55,
   "id": "fb15416a",
   "metadata": {},
   "outputs": [],
   "source": [
    "df = pd.read_csv('glass.data')"
   ]
  },
  {
   "cell_type": "code",
   "execution_count": 57,
   "id": "73af7a60",
   "metadata": {},
   "outputs": [
    {
     "data": {
      "text/html": [
       "<div>\n",
       "<style scoped>\n",
       "    .dataframe tbody tr th:only-of-type {\n",
       "        vertical-align: middle;\n",
       "    }\n",
       "\n",
       "    .dataframe tbody tr th {\n",
       "        vertical-align: top;\n",
       "    }\n",
       "\n",
       "    .dataframe thead th {\n",
       "        text-align: right;\n",
       "    }\n",
       "</style>\n",
       "<table border=\"1\" class=\"dataframe\">\n",
       "  <thead>\n",
       "    <tr style=\"text-align: right;\">\n",
       "      <th></th>\n",
       "      <th>1</th>\n",
       "      <th>1.52101</th>\n",
       "      <th>13.64</th>\n",
       "      <th>4.49</th>\n",
       "      <th>1.10</th>\n",
       "      <th>71.78</th>\n",
       "      <th>0.06</th>\n",
       "      <th>8.75</th>\n",
       "      <th>0.00</th>\n",
       "      <th>0.00.1</th>\n",
       "      <th>1.1</th>\n",
       "    </tr>\n",
       "  </thead>\n",
       "  <tbody>\n",
       "    <tr>\n",
       "      <th>count</th>\n",
       "      <td>213.000000</td>\n",
       "      <td>213.000000</td>\n",
       "      <td>213.000000</td>\n",
       "      <td>213.000000</td>\n",
       "      <td>213.000000</td>\n",
       "      <td>213.000000</td>\n",
       "      <td>213.000000</td>\n",
       "      <td>213.000000</td>\n",
       "      <td>213.000000</td>\n",
       "      <td>213.000000</td>\n",
       "      <td>213.000000</td>\n",
       "    </tr>\n",
       "    <tr>\n",
       "      <th>mean</th>\n",
       "      <td>108.000000</td>\n",
       "      <td>1.518353</td>\n",
       "      <td>13.406761</td>\n",
       "      <td>2.676056</td>\n",
       "      <td>1.446526</td>\n",
       "      <td>72.655023</td>\n",
       "      <td>0.499108</td>\n",
       "      <td>8.957934</td>\n",
       "      <td>0.175869</td>\n",
       "      <td>0.057277</td>\n",
       "      <td>2.788732</td>\n",
       "    </tr>\n",
       "    <tr>\n",
       "      <th>std</th>\n",
       "      <td>61.631972</td>\n",
       "      <td>0.003039</td>\n",
       "      <td>0.818371</td>\n",
       "      <td>1.440453</td>\n",
       "      <td>0.499882</td>\n",
       "      <td>0.774052</td>\n",
       "      <td>0.653035</td>\n",
       "      <td>1.426435</td>\n",
       "      <td>0.498245</td>\n",
       "      <td>0.097589</td>\n",
       "      <td>2.105130</td>\n",
       "    </tr>\n",
       "    <tr>\n",
       "      <th>min</th>\n",
       "      <td>2.000000</td>\n",
       "      <td>1.511150</td>\n",
       "      <td>10.730000</td>\n",
       "      <td>0.000000</td>\n",
       "      <td>0.290000</td>\n",
       "      <td>69.810000</td>\n",
       "      <td>0.000000</td>\n",
       "      <td>5.430000</td>\n",
       "      <td>0.000000</td>\n",
       "      <td>0.000000</td>\n",
       "      <td>1.000000</td>\n",
       "    </tr>\n",
       "    <tr>\n",
       "      <th>25%</th>\n",
       "      <td>55.000000</td>\n",
       "      <td>1.516520</td>\n",
       "      <td>12.900000</td>\n",
       "      <td>2.090000</td>\n",
       "      <td>1.190000</td>\n",
       "      <td>72.280000</td>\n",
       "      <td>0.130000</td>\n",
       "      <td>8.240000</td>\n",
       "      <td>0.000000</td>\n",
       "      <td>0.000000</td>\n",
       "      <td>1.000000</td>\n",
       "    </tr>\n",
       "    <tr>\n",
       "      <th>50%</th>\n",
       "      <td>108.000000</td>\n",
       "      <td>1.517680</td>\n",
       "      <td>13.300000</td>\n",
       "      <td>3.480000</td>\n",
       "      <td>1.360000</td>\n",
       "      <td>72.790000</td>\n",
       "      <td>0.560000</td>\n",
       "      <td>8.600000</td>\n",
       "      <td>0.000000</td>\n",
       "      <td>0.000000</td>\n",
       "      <td>2.000000</td>\n",
       "    </tr>\n",
       "    <tr>\n",
       "      <th>75%</th>\n",
       "      <td>161.000000</td>\n",
       "      <td>1.519150</td>\n",
       "      <td>13.830000</td>\n",
       "      <td>3.600000</td>\n",
       "      <td>1.630000</td>\n",
       "      <td>73.090000</td>\n",
       "      <td>0.610000</td>\n",
       "      <td>9.180000</td>\n",
       "      <td>0.000000</td>\n",
       "      <td>0.100000</td>\n",
       "      <td>3.000000</td>\n",
       "    </tr>\n",
       "    <tr>\n",
       "      <th>max</th>\n",
       "      <td>214.000000</td>\n",
       "      <td>1.533930</td>\n",
       "      <td>17.380000</td>\n",
       "      <td>3.980000</td>\n",
       "      <td>3.500000</td>\n",
       "      <td>75.410000</td>\n",
       "      <td>6.210000</td>\n",
       "      <td>16.190000</td>\n",
       "      <td>3.150000</td>\n",
       "      <td>0.510000</td>\n",
       "      <td>7.000000</td>\n",
       "    </tr>\n",
       "  </tbody>\n",
       "</table>\n",
       "</div>"
      ],
      "text/plain": [
       "                1     1.52101       13.64        4.49        1.10       71.78  \\\n",
       "count  213.000000  213.000000  213.000000  213.000000  213.000000  213.000000   \n",
       "mean   108.000000    1.518353   13.406761    2.676056    1.446526   72.655023   \n",
       "std     61.631972    0.003039    0.818371    1.440453    0.499882    0.774052   \n",
       "min      2.000000    1.511150   10.730000    0.000000    0.290000   69.810000   \n",
       "25%     55.000000    1.516520   12.900000    2.090000    1.190000   72.280000   \n",
       "50%    108.000000    1.517680   13.300000    3.480000    1.360000   72.790000   \n",
       "75%    161.000000    1.519150   13.830000    3.600000    1.630000   73.090000   \n",
       "max    214.000000    1.533930   17.380000    3.980000    3.500000   75.410000   \n",
       "\n",
       "             0.06        8.75        0.00      0.00.1         1.1  \n",
       "count  213.000000  213.000000  213.000000  213.000000  213.000000  \n",
       "mean     0.499108    8.957934    0.175869    0.057277    2.788732  \n",
       "std      0.653035    1.426435    0.498245    0.097589    2.105130  \n",
       "min      0.000000    5.430000    0.000000    0.000000    1.000000  \n",
       "25%      0.130000    8.240000    0.000000    0.000000    1.000000  \n",
       "50%      0.560000    8.600000    0.000000    0.000000    2.000000  \n",
       "75%      0.610000    9.180000    0.000000    0.100000    3.000000  \n",
       "max      6.210000   16.190000    3.150000    0.510000    7.000000  "
      ]
     },
     "execution_count": 57,
     "metadata": {},
     "output_type": "execute_result"
    }
   ],
   "source": [
    "df.describe()"
   ]
  },
  {
   "cell_type": "code",
   "execution_count": 59,
   "id": "bf368d3d",
   "metadata": {},
   "outputs": [],
   "source": [
    "#not scaled dataset!!\n",
    "from sklearn.preprocessing import StandardScaler\n",
    "scaler  = StandardScaler()\n",
    "df_sclaed = scaler.fit_transform(df)"
   ]
  },
  {
   "cell_type": "code",
   "execution_count": 62,
   "id": "336a551e",
   "metadata": {},
   "outputs": [],
   "source": [
    "df_new = pd.DataFrame(df_sclaed)"
   ]
  },
  {
   "cell_type": "code",
   "execution_count": 64,
   "id": "bf5257c1",
   "metadata": {},
   "outputs": [
    {
     "data": {
      "text/html": [
       "<div>\n",
       "<style scoped>\n",
       "    .dataframe tbody tr th:only-of-type {\n",
       "        vertical-align: middle;\n",
       "    }\n",
       "\n",
       "    .dataframe tbody tr th {\n",
       "        vertical-align: top;\n",
       "    }\n",
       "\n",
       "    .dataframe thead th {\n",
       "        text-align: right;\n",
       "    }\n",
       "</style>\n",
       "<table border=\"1\" class=\"dataframe\">\n",
       "  <thead>\n",
       "    <tr style=\"text-align: right;\">\n",
       "      <th></th>\n",
       "      <th>0</th>\n",
       "      <th>1</th>\n",
       "      <th>2</th>\n",
       "      <th>3</th>\n",
       "      <th>4</th>\n",
       "      <th>5</th>\n",
       "      <th>6</th>\n",
       "      <th>7</th>\n",
       "      <th>8</th>\n",
       "      <th>9</th>\n",
       "      <th>10</th>\n",
       "    </tr>\n",
       "  </thead>\n",
       "  <tbody>\n",
       "    <tr>\n",
       "      <th>count</th>\n",
       "      <td>2.130000e+02</td>\n",
       "      <td>2.130000e+02</td>\n",
       "      <td>2.130000e+02</td>\n",
       "      <td>2.130000e+02</td>\n",
       "      <td>2.130000e+02</td>\n",
       "      <td>2.130000e+02</td>\n",
       "      <td>2.130000e+02</td>\n",
       "      <td>2.130000e+02</td>\n",
       "      <td>2.130000e+02</td>\n",
       "      <td>2.130000e+02</td>\n",
       "      <td>2.130000e+02</td>\n",
       "    </tr>\n",
       "    <tr>\n",
       "      <th>mean</th>\n",
       "      <td>-6.776009e-17</td>\n",
       "      <td>-5.822416e-15</td>\n",
       "      <td>-1.719021e-15</td>\n",
       "      <td>4.691083e-16</td>\n",
       "      <td>-2.397665e-17</td>\n",
       "      <td>1.460021e-14</td>\n",
       "      <td>-5.525054e-17</td>\n",
       "      <td>-3.926176e-16</td>\n",
       "      <td>7.297241e-16</td>\n",
       "      <td>-1.459448e-16</td>\n",
       "      <td>-1.084161e-15</td>\n",
       "    </tr>\n",
       "    <tr>\n",
       "      <th>std</th>\n",
       "      <td>1.002356e+00</td>\n",
       "      <td>1.002356e+00</td>\n",
       "      <td>1.002356e+00</td>\n",
       "      <td>1.002356e+00</td>\n",
       "      <td>1.002356e+00</td>\n",
       "      <td>1.002356e+00</td>\n",
       "      <td>1.002356e+00</td>\n",
       "      <td>1.002356e+00</td>\n",
       "      <td>1.002356e+00</td>\n",
       "      <td>1.002356e+00</td>\n",
       "      <td>1.002356e+00</td>\n",
       "    </tr>\n",
       "    <tr>\n",
       "      <th>min</th>\n",
       "      <td>-1.723938e+00</td>\n",
       "      <td>-2.376110e+00</td>\n",
       "      <td>-3.278544e+00</td>\n",
       "      <td>-1.862164e+00</td>\n",
       "      <td>-2.319047e+00</td>\n",
       "      <td>-3.684153e+00</td>\n",
       "      <td>-7.660897e-01</td>\n",
       "      <td>-2.479079e+00</td>\n",
       "      <td>-3.538076e-01</td>\n",
       "      <td>-5.883011e-01</td>\n",
       "      <td>-8.517035e-01</td>\n",
       "    </tr>\n",
       "    <tr>\n",
       "      <th>25%</th>\n",
       "      <td>-8.619691e-01</td>\n",
       "      <td>-6.046672e-01</td>\n",
       "      <td>-6.206894e-01</td>\n",
       "      <td>-4.078139e-01</td>\n",
       "      <td>-5.143814e-01</td>\n",
       "      <td>-4.856353e-01</td>\n",
       "      <td>-5.665504e-01</td>\n",
       "      <td>-5.044924e-01</td>\n",
       "      <td>-3.538076e-01</td>\n",
       "      <td>-5.883011e-01</td>\n",
       "      <td>-8.517035e-01</td>\n",
       "    </tr>\n",
       "    <tr>\n",
       "      <th>50%</th>\n",
       "      <td>0.000000e+00</td>\n",
       "      <td>-2.220092e-01</td>\n",
       "      <td>-1.307623e-01</td>\n",
       "      <td>5.594332e-01</td>\n",
       "      <td>-1.735002e-01</td>\n",
       "      <td>1.747874e-01</td>\n",
       "      <td>9.346424e-02</td>\n",
       "      <td>-2.515204e-01</td>\n",
       "      <td>-3.538076e-01</td>\n",
       "      <td>-5.883011e-01</td>\n",
       "      <td>-3.755543e-01</td>\n",
       "    </tr>\n",
       "    <tr>\n",
       "      <th>75%</th>\n",
       "      <td>8.619691e-01</td>\n",
       "      <td>2.629109e-01</td>\n",
       "      <td>5.183912e-01</td>\n",
       "      <td>6.429366e-01</td>\n",
       "      <td>3.678995e-01</td>\n",
       "      <td>5.632713e-01</td>\n",
       "      <td>1.702101e-01</td>\n",
       "      <td>1.560456e-01</td>\n",
       "      <td>-3.538076e-01</td>\n",
       "      <td>4.388147e-01</td>\n",
       "      <td>1.005949e-01</td>\n",
       "    </tr>\n",
       "    <tr>\n",
       "      <th>max</th>\n",
       "      <td>1.723938e+00</td>\n",
       "      <td>5.138502e+00</td>\n",
       "      <td>4.866495e+00</td>\n",
       "      <td>9.073639e-01</td>\n",
       "      <td>4.117593e+00</td>\n",
       "      <td>3.567547e+00</td>\n",
       "      <td>8.765749e+00</td>\n",
       "      <td>5.081972e+00</td>\n",
       "      <td>5.983278e+00</td>\n",
       "      <td>4.649990e+00</td>\n",
       "      <td>2.005192e+00</td>\n",
       "    </tr>\n",
       "  </tbody>\n",
       "</table>\n",
       "</div>"
      ],
      "text/plain": [
       "                 0             1             2             3             4   \\\n",
       "count  2.130000e+02  2.130000e+02  2.130000e+02  2.130000e+02  2.130000e+02   \n",
       "mean  -6.776009e-17 -5.822416e-15 -1.719021e-15  4.691083e-16 -2.397665e-17   \n",
       "std    1.002356e+00  1.002356e+00  1.002356e+00  1.002356e+00  1.002356e+00   \n",
       "min   -1.723938e+00 -2.376110e+00 -3.278544e+00 -1.862164e+00 -2.319047e+00   \n",
       "25%   -8.619691e-01 -6.046672e-01 -6.206894e-01 -4.078139e-01 -5.143814e-01   \n",
       "50%    0.000000e+00 -2.220092e-01 -1.307623e-01  5.594332e-01 -1.735002e-01   \n",
       "75%    8.619691e-01  2.629109e-01  5.183912e-01  6.429366e-01  3.678995e-01   \n",
       "max    1.723938e+00  5.138502e+00  4.866495e+00  9.073639e-01  4.117593e+00   \n",
       "\n",
       "                 5             6             7             8             9   \\\n",
       "count  2.130000e+02  2.130000e+02  2.130000e+02  2.130000e+02  2.130000e+02   \n",
       "mean   1.460021e-14 -5.525054e-17 -3.926176e-16  7.297241e-16 -1.459448e-16   \n",
       "std    1.002356e+00  1.002356e+00  1.002356e+00  1.002356e+00  1.002356e+00   \n",
       "min   -3.684153e+00 -7.660897e-01 -2.479079e+00 -3.538076e-01 -5.883011e-01   \n",
       "25%   -4.856353e-01 -5.665504e-01 -5.044924e-01 -3.538076e-01 -5.883011e-01   \n",
       "50%    1.747874e-01  9.346424e-02 -2.515204e-01 -3.538076e-01 -5.883011e-01   \n",
       "75%    5.632713e-01  1.702101e-01  1.560456e-01 -3.538076e-01  4.388147e-01   \n",
       "max    3.567547e+00  8.765749e+00  5.081972e+00  5.983278e+00  4.649990e+00   \n",
       "\n",
       "                 10  \n",
       "count  2.130000e+02  \n",
       "mean  -1.084161e-15  \n",
       "std    1.002356e+00  \n",
       "min   -8.517035e-01  \n",
       "25%   -8.517035e-01  \n",
       "50%   -3.755543e-01  \n",
       "75%    1.005949e-01  \n",
       "max    2.005192e+00  "
      ]
     },
     "execution_count": 64,
     "metadata": {},
     "output_type": "execute_result"
    }
   ],
   "source": [
    "df_new.describe() #mean 0 and std close to 1"
   ]
  },
  {
   "cell_type": "code",
   "execution_count": null,
   "id": "25a40069",
   "metadata": {},
   "outputs": [],
   "source": []
  }
 ],
 "metadata": {
  "kernelspec": {
   "display_name": "Python 3 (ipykernel)",
   "language": "python",
   "name": "python3"
  },
  "language_info": {
   "codemirror_mode": {
    "name": "ipython",
    "version": 3
   },
   "file_extension": ".py",
   "mimetype": "text/x-python",
   "name": "python",
   "nbconvert_exporter": "python",
   "pygments_lexer": "ipython3",
   "version": "3.9.7"
  }
 },
 "nbformat": 4,
 "nbformat_minor": 5
}
